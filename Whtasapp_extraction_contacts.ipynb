{
 "cells": [
  {
   "cell_type": "code",
   "execution_count": null,
   "id": "537efb3f-6142-487f-a504-31d7a9f5f166",
   "metadata": {},
   "outputs": [],
   "source": []
  }
 ],
 "metadata": {
  "kernelspec": {
   "display_name": "",
   "name": ""
  },
  "language_info": {
   "name": ""
  }
 },
 "nbformat": 4,
 "nbformat_minor": 5
}
